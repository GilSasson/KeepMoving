{
  "nbformat": 4,
  "nbformat_minor": 0,
  "metadata": {
    "accelerator": "GPU",
    "colab": {
      "name": "LSTM test",
      "provenance": [],
      "collapsed_sections": [],
      "include_colab_link": true
    },
    "kernelspec": {
      "display_name": "Python 3",
      "name": "python3"
    },
    "language_info": {
      "name": "python"
    }
  },
  "cells": [
    {
      "cell_type": "markdown",
      "metadata": {
        "id": "view-in-github",
        "colab_type": "text"
      },
      "source": [
        "<a href=\"https://colab.research.google.com/github/GilSasson/KeepMoving/blob/main/LSTM_test.ipynb\" target=\"_parent\"><img src=\"https://colab.research.google.com/assets/colab-badge.svg\" alt=\"Open In Colab\"/></a>"
      ]
    },
    {
      "cell_type": "markdown",
      "metadata": {
        "id": "ARNz4MDwTdaS"
      },
      "source": [
        "A classic LSTM example about the number of bikes rented in London.\n",
        "Also discussed at: \n",
        "\n",
        "https://medium.com/@nutanbhogendrasharma/tensorflow-demand-prediction-with-london-bike-sharing-dataset-3436ac12f230\n",
        "\n",
        "and \n",
        "\n",
        "https://github.com/shakibyzn/London-bike-sharing-time-series-analysis/blob/master/bike_sharing_analysis_using_lstm_model.ipynb\n"
      ]
    },
    {
      "cell_type": "code",
      "metadata": {
        "id": "u-LUhnDRRqi4"
      },
      "source": [
        "import numpy as np\n",
        "import tensorflow as tf\n",
        "from tensorflow import keras\n",
        "import pandas as pd\n",
        "import seaborn as sns\n",
        "import matplotlib.pyplot as plt\n",
        "import warnings\n",
        "\n",
        "warnings.simplefilter(action=\"ignore\", category=FutureWarning)"
      ],
      "execution_count": 151,
      "outputs": []
    },
    {
      "cell_type": "code",
      "metadata": {
        "id": "ytWJlTXgPh7R"
      },
      "source": [
        "url = 'https://raw.githubusercontent.com/GilSasson/KeepMoving/main/lidar_test.csv'\n",
        "df =pd.read_csv(url,  parse_dates=['time'], index_col='time') "
      ],
      "execution_count": 152,
      "outputs": []
    },
    {
      "cell_type": "code",
      "metadata": {
        "colab": {
          "base_uri": "https://localhost:8080/",
          "height": 238
        },
        "id": "duHGE6sLPh7S",
        "outputId": "6b071ab0-8f57-49e2-950e-670ffe0d53e9"
      },
      "source": [
        "df.head()"
      ],
      "execution_count": 153,
      "outputs": [
        {
          "output_type": "execute_result",
          "data": {
            "text/plain": [
              "          distance_z  velocity_z  dist_from_lidar  almost_fall\n",
              "time                                                          \n",
              "2.886151    2.405723   -1.084957              3.5            0\n",
              "3.023319    2.398088   -0.545561              3.5            0\n",
              "3.114092    2.393277   -0.379287              3.5            0\n",
              "3.188361    2.383059   -1.503750              3.5            0\n",
              "3.319973    2.375078   -0.806650              3.5            0"
            ],
            "text/html": [
              "\n",
              "  <div id=\"df-4ed16638-902a-4007-afd1-8b4f5c7b9d8e\">\n",
              "    <div class=\"colab-df-container\">\n",
              "      <div>\n",
              "<style scoped>\n",
              "    .dataframe tbody tr th:only-of-type {\n",
              "        vertical-align: middle;\n",
              "    }\n",
              "\n",
              "    .dataframe tbody tr th {\n",
              "        vertical-align: top;\n",
              "    }\n",
              "\n",
              "    .dataframe thead th {\n",
              "        text-align: right;\n",
              "    }\n",
              "</style>\n",
              "<table border=\"1\" class=\"dataframe\">\n",
              "  <thead>\n",
              "    <tr style=\"text-align: right;\">\n",
              "      <th></th>\n",
              "      <th>distance_z</th>\n",
              "      <th>velocity_z</th>\n",
              "      <th>dist_from_lidar</th>\n",
              "      <th>almost_fall</th>\n",
              "    </tr>\n",
              "    <tr>\n",
              "      <th>time</th>\n",
              "      <th></th>\n",
              "      <th></th>\n",
              "      <th></th>\n",
              "      <th></th>\n",
              "    </tr>\n",
              "  </thead>\n",
              "  <tbody>\n",
              "    <tr>\n",
              "      <th>2.886151</th>\n",
              "      <td>2.405723</td>\n",
              "      <td>-1.084957</td>\n",
              "      <td>3.5</td>\n",
              "      <td>0</td>\n",
              "    </tr>\n",
              "    <tr>\n",
              "      <th>3.023319</th>\n",
              "      <td>2.398088</td>\n",
              "      <td>-0.545561</td>\n",
              "      <td>3.5</td>\n",
              "      <td>0</td>\n",
              "    </tr>\n",
              "    <tr>\n",
              "      <th>3.114092</th>\n",
              "      <td>2.393277</td>\n",
              "      <td>-0.379287</td>\n",
              "      <td>3.5</td>\n",
              "      <td>0</td>\n",
              "    </tr>\n",
              "    <tr>\n",
              "      <th>3.188361</th>\n",
              "      <td>2.383059</td>\n",
              "      <td>-1.503750</td>\n",
              "      <td>3.5</td>\n",
              "      <td>0</td>\n",
              "    </tr>\n",
              "    <tr>\n",
              "      <th>3.319973</th>\n",
              "      <td>2.375078</td>\n",
              "      <td>-0.806650</td>\n",
              "      <td>3.5</td>\n",
              "      <td>0</td>\n",
              "    </tr>\n",
              "  </tbody>\n",
              "</table>\n",
              "</div>\n",
              "      <button class=\"colab-df-convert\" onclick=\"convertToInteractive('df-4ed16638-902a-4007-afd1-8b4f5c7b9d8e')\"\n",
              "              title=\"Convert this dataframe to an interactive table.\"\n",
              "              style=\"display:none;\">\n",
              "        \n",
              "  <svg xmlns=\"http://www.w3.org/2000/svg\" height=\"24px\"viewBox=\"0 0 24 24\"\n",
              "       width=\"24px\">\n",
              "    <path d=\"M0 0h24v24H0V0z\" fill=\"none\"/>\n",
              "    <path d=\"M18.56 5.44l.94 2.06.94-2.06 2.06-.94-2.06-.94-.94-2.06-.94 2.06-2.06.94zm-11 1L8.5 8.5l.94-2.06 2.06-.94-2.06-.94L8.5 2.5l-.94 2.06-2.06.94zm10 10l.94 2.06.94-2.06 2.06-.94-2.06-.94-.94-2.06-.94 2.06-2.06.94z\"/><path d=\"M17.41 7.96l-1.37-1.37c-.4-.4-.92-.59-1.43-.59-.52 0-1.04.2-1.43.59L10.3 9.45l-7.72 7.72c-.78.78-.78 2.05 0 2.83L4 21.41c.39.39.9.59 1.41.59.51 0 1.02-.2 1.41-.59l7.78-7.78 2.81-2.81c.8-.78.8-2.07 0-2.86zM5.41 20L4 18.59l7.72-7.72 1.47 1.35L5.41 20z\"/>\n",
              "  </svg>\n",
              "      </button>\n",
              "      \n",
              "  <style>\n",
              "    .colab-df-container {\n",
              "      display:flex;\n",
              "      flex-wrap:wrap;\n",
              "      gap: 12px;\n",
              "    }\n",
              "\n",
              "    .colab-df-convert {\n",
              "      background-color: #E8F0FE;\n",
              "      border: none;\n",
              "      border-radius: 50%;\n",
              "      cursor: pointer;\n",
              "      display: none;\n",
              "      fill: #1967D2;\n",
              "      height: 32px;\n",
              "      padding: 0 0 0 0;\n",
              "      width: 32px;\n",
              "    }\n",
              "\n",
              "    .colab-df-convert:hover {\n",
              "      background-color: #E2EBFA;\n",
              "      box-shadow: 0px 1px 2px rgba(60, 64, 67, 0.3), 0px 1px 3px 1px rgba(60, 64, 67, 0.15);\n",
              "      fill: #174EA6;\n",
              "    }\n",
              "\n",
              "    [theme=dark] .colab-df-convert {\n",
              "      background-color: #3B4455;\n",
              "      fill: #D2E3FC;\n",
              "    }\n",
              "\n",
              "    [theme=dark] .colab-df-convert:hover {\n",
              "      background-color: #434B5C;\n",
              "      box-shadow: 0px 1px 3px 1px rgba(0, 0, 0, 0.15);\n",
              "      filter: drop-shadow(0px 1px 2px rgba(0, 0, 0, 0.3));\n",
              "      fill: #FFFFFF;\n",
              "    }\n",
              "  </style>\n",
              "\n",
              "      <script>\n",
              "        const buttonEl =\n",
              "          document.querySelector('#df-4ed16638-902a-4007-afd1-8b4f5c7b9d8e button.colab-df-convert');\n",
              "        buttonEl.style.display =\n",
              "          google.colab.kernel.accessAllowed ? 'block' : 'none';\n",
              "\n",
              "        async function convertToInteractive(key) {\n",
              "          const element = document.querySelector('#df-4ed16638-902a-4007-afd1-8b4f5c7b9d8e');\n",
              "          const dataTable =\n",
              "            await google.colab.kernel.invokeFunction('convertToInteractive',\n",
              "                                                     [key], {});\n",
              "          if (!dataTable) return;\n",
              "\n",
              "          const docLinkHtml = 'Like what you see? Visit the ' +\n",
              "            '<a target=\"_blank\" href=https://colab.research.google.com/notebooks/data_table.ipynb>data table notebook</a>'\n",
              "            + ' to learn more about interactive tables.';\n",
              "          element.innerHTML = '';\n",
              "          dataTable['output_type'] = 'display_data';\n",
              "          await google.colab.output.renderOutput(dataTable, element);\n",
              "          const docLink = document.createElement('div');\n",
              "          docLink.innerHTML = docLinkHtml;\n",
              "          element.appendChild(docLink);\n",
              "        }\n",
              "      </script>\n",
              "    </div>\n",
              "  </div>\n",
              "  "
            ]
          },
          "metadata": {},
          "execution_count": 153
        }
      ]
    },
    {
      "cell_type": "code",
      "source": [
        "df.tail()"
      ],
      "metadata": {
        "id": "sAbA3w4vhU47",
        "outputId": "1b62c036-1862-4a50-a6c3-bb58f9c51c89",
        "colab": {
          "base_uri": "https://localhost:8080/",
          "height": 238
        }
      },
      "execution_count": 154,
      "outputs": [
        {
          "output_type": "execute_result",
          "data": {
            "text/plain": [
              "             distance_z  velocity_z  dist_from_lidar  almost_fall\n",
              "time                                                             \n",
              "1264.591417    1.259751    0.085940              3.5            0\n",
              "1264.689163    1.260624    0.145224              3.5            0\n",
              "1264.786910    1.261609    0.096537              3.5            0\n",
              "1264.884656    1.263149    0.090116              3.5            0\n",
              "1264.982402    1.263741    0.043488              3.5            0"
            ],
            "text/html": [
              "\n",
              "  <div id=\"df-634f9c96-2321-4c6d-9a98-4bb670d71ed6\">\n",
              "    <div class=\"colab-df-container\">\n",
              "      <div>\n",
              "<style scoped>\n",
              "    .dataframe tbody tr th:only-of-type {\n",
              "        vertical-align: middle;\n",
              "    }\n",
              "\n",
              "    .dataframe tbody tr th {\n",
              "        vertical-align: top;\n",
              "    }\n",
              "\n",
              "    .dataframe thead th {\n",
              "        text-align: right;\n",
              "    }\n",
              "</style>\n",
              "<table border=\"1\" class=\"dataframe\">\n",
              "  <thead>\n",
              "    <tr style=\"text-align: right;\">\n",
              "      <th></th>\n",
              "      <th>distance_z</th>\n",
              "      <th>velocity_z</th>\n",
              "      <th>dist_from_lidar</th>\n",
              "      <th>almost_fall</th>\n",
              "    </tr>\n",
              "    <tr>\n",
              "      <th>time</th>\n",
              "      <th></th>\n",
              "      <th></th>\n",
              "      <th></th>\n",
              "      <th></th>\n",
              "    </tr>\n",
              "  </thead>\n",
              "  <tbody>\n",
              "    <tr>\n",
              "      <th>1264.591417</th>\n",
              "      <td>1.259751</td>\n",
              "      <td>0.085940</td>\n",
              "      <td>3.5</td>\n",
              "      <td>0</td>\n",
              "    </tr>\n",
              "    <tr>\n",
              "      <th>1264.689163</th>\n",
              "      <td>1.260624</td>\n",
              "      <td>0.145224</td>\n",
              "      <td>3.5</td>\n",
              "      <td>0</td>\n",
              "    </tr>\n",
              "    <tr>\n",
              "      <th>1264.786910</th>\n",
              "      <td>1.261609</td>\n",
              "      <td>0.096537</td>\n",
              "      <td>3.5</td>\n",
              "      <td>0</td>\n",
              "    </tr>\n",
              "    <tr>\n",
              "      <th>1264.884656</th>\n",
              "      <td>1.263149</td>\n",
              "      <td>0.090116</td>\n",
              "      <td>3.5</td>\n",
              "      <td>0</td>\n",
              "    </tr>\n",
              "    <tr>\n",
              "      <th>1264.982402</th>\n",
              "      <td>1.263741</td>\n",
              "      <td>0.043488</td>\n",
              "      <td>3.5</td>\n",
              "      <td>0</td>\n",
              "    </tr>\n",
              "  </tbody>\n",
              "</table>\n",
              "</div>\n",
              "      <button class=\"colab-df-convert\" onclick=\"convertToInteractive('df-634f9c96-2321-4c6d-9a98-4bb670d71ed6')\"\n",
              "              title=\"Convert this dataframe to an interactive table.\"\n",
              "              style=\"display:none;\">\n",
              "        \n",
              "  <svg xmlns=\"http://www.w3.org/2000/svg\" height=\"24px\"viewBox=\"0 0 24 24\"\n",
              "       width=\"24px\">\n",
              "    <path d=\"M0 0h24v24H0V0z\" fill=\"none\"/>\n",
              "    <path d=\"M18.56 5.44l.94 2.06.94-2.06 2.06-.94-2.06-.94-.94-2.06-.94 2.06-2.06.94zm-11 1L8.5 8.5l.94-2.06 2.06-.94-2.06-.94L8.5 2.5l-.94 2.06-2.06.94zm10 10l.94 2.06.94-2.06 2.06-.94-2.06-.94-.94-2.06-.94 2.06-2.06.94z\"/><path d=\"M17.41 7.96l-1.37-1.37c-.4-.4-.92-.59-1.43-.59-.52 0-1.04.2-1.43.59L10.3 9.45l-7.72 7.72c-.78.78-.78 2.05 0 2.83L4 21.41c.39.39.9.59 1.41.59.51 0 1.02-.2 1.41-.59l7.78-7.78 2.81-2.81c.8-.78.8-2.07 0-2.86zM5.41 20L4 18.59l7.72-7.72 1.47 1.35L5.41 20z\"/>\n",
              "  </svg>\n",
              "      </button>\n",
              "      \n",
              "  <style>\n",
              "    .colab-df-container {\n",
              "      display:flex;\n",
              "      flex-wrap:wrap;\n",
              "      gap: 12px;\n",
              "    }\n",
              "\n",
              "    .colab-df-convert {\n",
              "      background-color: #E8F0FE;\n",
              "      border: none;\n",
              "      border-radius: 50%;\n",
              "      cursor: pointer;\n",
              "      display: none;\n",
              "      fill: #1967D2;\n",
              "      height: 32px;\n",
              "      padding: 0 0 0 0;\n",
              "      width: 32px;\n",
              "    }\n",
              "\n",
              "    .colab-df-convert:hover {\n",
              "      background-color: #E2EBFA;\n",
              "      box-shadow: 0px 1px 2px rgba(60, 64, 67, 0.3), 0px 1px 3px 1px rgba(60, 64, 67, 0.15);\n",
              "      fill: #174EA6;\n",
              "    }\n",
              "\n",
              "    [theme=dark] .colab-df-convert {\n",
              "      background-color: #3B4455;\n",
              "      fill: #D2E3FC;\n",
              "    }\n",
              "\n",
              "    [theme=dark] .colab-df-convert:hover {\n",
              "      background-color: #434B5C;\n",
              "      box-shadow: 0px 1px 3px 1px rgba(0, 0, 0, 0.15);\n",
              "      filter: drop-shadow(0px 1px 2px rgba(0, 0, 0, 0.3));\n",
              "      fill: #FFFFFF;\n",
              "    }\n",
              "  </style>\n",
              "\n",
              "      <script>\n",
              "        const buttonEl =\n",
              "          document.querySelector('#df-634f9c96-2321-4c6d-9a98-4bb670d71ed6 button.colab-df-convert');\n",
              "        buttonEl.style.display =\n",
              "          google.colab.kernel.accessAllowed ? 'block' : 'none';\n",
              "\n",
              "        async function convertToInteractive(key) {\n",
              "          const element = document.querySelector('#df-634f9c96-2321-4c6d-9a98-4bb670d71ed6');\n",
              "          const dataTable =\n",
              "            await google.colab.kernel.invokeFunction('convertToInteractive',\n",
              "                                                     [key], {});\n",
              "          if (!dataTable) return;\n",
              "\n",
              "          const docLinkHtml = 'Like what you see? Visit the ' +\n",
              "            '<a target=\"_blank\" href=https://colab.research.google.com/notebooks/data_table.ipynb>data table notebook</a>'\n",
              "            + ' to learn more about interactive tables.';\n",
              "          element.innerHTML = '';\n",
              "          dataTable['output_type'] = 'display_data';\n",
              "          await google.colab.output.renderOutput(dataTable, element);\n",
              "          const docLink = document.createElement('div');\n",
              "          docLink.innerHTML = docLinkHtml;\n",
              "          element.appendChild(docLink);\n",
              "        }\n",
              "      </script>\n",
              "    </div>\n",
              "  </div>\n",
              "  "
            ]
          },
          "metadata": {},
          "execution_count": 154
        }
      ]
    },
    {
      "cell_type": "code",
      "source": [
        "data = df.iloc[::-1]\n",
        "df = df.append(data)"
      ],
      "metadata": {
        "id": "QXI93l5RdYlX"
      },
      "execution_count": 155,
      "outputs": []
    },
    {
      "cell_type": "code",
      "metadata": {
        "id": "5CVhPPr2Ph7S"
      },
      "source": [
        "# plt.figure(figsize=(12,6))\n",
        "# sns.lineplot(x=df.index, y=\"almost_fall\", data=df)"
      ],
      "execution_count": 156,
      "outputs": []
    },
    {
      "cell_type": "markdown",
      "source": [
        "Now, split the data into train / test."
      ],
      "metadata": {
        "id": "W_2iNM11gUAf"
      }
    },
    {
      "cell_type": "code",
      "metadata": {
        "colab": {
          "base_uri": "https://localhost:8080/"
        },
        "id": "zmsrxvgePh7T",
        "outputId": "19abe8ae-a837-4ac2-ff5f-05812a548adb"
      },
      "source": [
        "train_size = int(len(df) * 0.5)\n",
        "test_size = len(df) - train_size\n",
        "train, test = df.iloc[0:train_size], df.iloc[train_size:len(df)]\n",
        "print(train.shape, test.shape)\n"
      ],
      "execution_count": 157,
      "outputs": [
        {
          "output_type": "stream",
          "name": "stdout",
          "text": [
            "(12839, 4) (12839, 4)\n"
          ]
        }
      ]
    },
    {
      "cell_type": "markdown",
      "source": [
        "Normalize the values before Gradient Descent:"
      ],
      "metadata": {
        "id": "VHm1z9s-gQU5"
      }
    },
    {
      "cell_type": "code",
      "source": [
        "from sklearn.preprocessing import RobustScaler\n",
        "pd.options.mode.chained_assignment = None\n",
        "\n",
        "f_columns = ['distance_z', 'velocity_z', 'dist_from_lidar']\n",
        "\n",
        "f_transformer = RobustScaler()\n",
        "almost_fall_transformer = RobustScaler()\n",
        "\n",
        "f_transformer = f_transformer.fit(train[f_columns].to_numpy())\n",
        "almost_fall_transformer = almost_fall_transformer.fit(train[['almost_fall']])\n",
        "\n",
        "train.loc[:, f_columns] = f_transformer.transform(train[f_columns].to_numpy())\n",
        "train['almost_fall'] = almost_fall_transformer.transform(train[['almost_fall']])\n",
        "\n",
        "test.loc[:, f_columns] = f_transformer.transform(test[f_columns].to_numpy())\n",
        "test['almost_fall'] = almost_fall_transformer.transform(test[['almost_fall']])"
      ],
      "metadata": {
        "id": "Xjc9hATmdrd6"
      },
      "execution_count": 158,
      "outputs": []
    },
    {
      "cell_type": "markdown",
      "source": [
        "This is the trickiest part-- note that the dataset that is created is a time series with time_steps time-steps."
      ],
      "metadata": {
        "id": "F4aBgDNRgZYk"
      }
    },
    {
      "cell_type": "code",
      "metadata": {
        "id": "H9u5bYSkPh7U"
      },
      "source": [
        "def create_dataset(X, y, time_steps=1):\n",
        "    Xs, ys = [], []\n",
        "    for i in range(len(X) - time_steps):\n",
        "        v = X.iloc[i:(i + time_steps)].values\n",
        "        Xs.append(v)        \n",
        "        ys.append(y.iloc[i + time_steps])\n",
        "    return np.array(Xs), np.array(ys)"
      ],
      "execution_count": 159,
      "outputs": []
    },
    {
      "cell_type": "code",
      "metadata": {
        "colab": {
          "base_uri": "https://localhost:8080/"
        },
        "id": "F56HFMXiPh7U",
        "outputId": "94384100-7a71-42c4-a6d3-df8465f15626"
      },
      "source": [
        "time_steps = 10\n",
        "f_columns = ['distance_z', 'velocity_z', 'dist_from_lidar']\n",
        "train_c = train[f_columns]\n",
        "test_c = test[f_columns]\n",
        "\n",
        "X_train, y_train = create_dataset(train_c, train.almost_fall, time_steps)\n",
        "X_test, y_test = create_dataset(test_c, test.almost_fall, time_steps)\n",
        "\n",
        "print(X_train.shape, y_train.shape)"
      ],
      "execution_count": 160,
      "outputs": [
        {
          "output_type": "stream",
          "name": "stdout",
          "text": [
            "(12829, 10, 3) (12829,)\n"
          ]
        }
      ]
    },
    {
      "cell_type": "code",
      "metadata": {
        "id": "TWoC0caFPh7U"
      },
      "source": [
        "model = keras.Sequential()\n",
        "model.add(\n",
        "  keras.layers.Bidirectional(\n",
        "    keras.layers.LSTM(\n",
        "      units=256, \n",
        "      input_shape=(X_train.shape[1], X_train.shape[2])\n",
        "    )\n",
        "  )\n",
        ")\n",
        "model.add(keras.layers.Dropout(rate=0.2))\n",
        "model.add(keras.layers.Dense(units=1))\n",
        "model.compile(loss='mse', optimizer='adam', metrics=['acc'])"
      ],
      "execution_count": 161,
      "outputs": []
    },
    {
      "cell_type": "code",
      "source": [
        "history = model.fit(\n",
        "    X_train, y_train, \n",
        "    epochs=30, \n",
        "    batch_size=16, \n",
        "    validation_split=0.1,\n",
        "    shuffle=False\n",
        ")"
      ],
      "metadata": {
        "colab": {
          "base_uri": "https://localhost:8080/"
        },
        "id": "LP5nH9BoWSuF",
        "outputId": "47344cd6-2939-4e2f-a571-c4bf87403c7f"
      },
      "execution_count": 162,
      "outputs": [
        {
          "output_type": "stream",
          "name": "stdout",
          "text": [
            "Epoch 1/30\n",
            "722/722 [==============================] - 8s 7ms/step - loss: 0.0832 - acc: 0.9705 - val_loss: 0.1279 - val_acc: 0.9564\n",
            "Epoch 2/30\n",
            "722/722 [==============================] - 4s 6ms/step - loss: 0.0323 - acc: 0.9729 - val_loss: 0.0438 - val_acc: 0.9595\n",
            "Epoch 3/30\n",
            "722/722 [==============================] - 4s 6ms/step - loss: 0.0226 - acc: 0.9760 - val_loss: 0.0531 - val_acc: 0.9571\n",
            "Epoch 4/30\n",
            "722/722 [==============================] - 4s 6ms/step - loss: 0.0206 - acc: 0.9758 - val_loss: 0.0435 - val_acc: 0.9571\n",
            "Epoch 5/30\n",
            "722/722 [==============================] - 4s 6ms/step - loss: 0.0206 - acc: 0.9781 - val_loss: 0.0502 - val_acc: 0.9564\n",
            "Epoch 6/30\n",
            "722/722 [==============================] - 4s 6ms/step - loss: 0.0201 - acc: 0.9777 - val_loss: 0.0456 - val_acc: 0.9587\n",
            "Epoch 7/30\n",
            "722/722 [==============================] - 4s 6ms/step - loss: 0.0190 - acc: 0.9776 - val_loss: 0.0356 - val_acc: 0.9602\n",
            "Epoch 8/30\n",
            "722/722 [==============================] - 5s 7ms/step - loss: 0.0184 - acc: 0.9793 - val_loss: 0.0347 - val_acc: 0.9595\n",
            "Epoch 9/30\n",
            "722/722 [==============================] - 5s 6ms/step - loss: 0.0174 - acc: 0.9809 - val_loss: 0.0340 - val_acc: 0.9626\n",
            "Epoch 10/30\n",
            "722/722 [==============================] - 4s 6ms/step - loss: 0.0170 - acc: 0.9795 - val_loss: 0.0295 - val_acc: 0.9712\n",
            "Epoch 11/30\n",
            "722/722 [==============================] - 4s 6ms/step - loss: 0.0168 - acc: 0.9813 - val_loss: 0.0334 - val_acc: 0.9595\n",
            "Epoch 12/30\n",
            "722/722 [==============================] - 6s 9ms/step - loss: 0.0165 - acc: 0.9809 - val_loss: 0.0303 - val_acc: 0.9649\n",
            "Epoch 13/30\n",
            "722/722 [==============================] - 5s 6ms/step - loss: 0.0162 - acc: 0.9806 - val_loss: 0.0323 - val_acc: 0.9618\n",
            "Epoch 14/30\n",
            "722/722 [==============================] - 4s 6ms/step - loss: 0.0165 - acc: 0.9790 - val_loss: 0.0195 - val_acc: 0.9680\n",
            "Epoch 15/30\n",
            "722/722 [==============================] - 4s 6ms/step - loss: 0.0169 - acc: 0.9793 - val_loss: 0.0188 - val_acc: 0.9680\n",
            "Epoch 16/30\n",
            "722/722 [==============================] - 4s 6ms/step - loss: 0.0160 - acc: 0.9791 - val_loss: 0.0266 - val_acc: 0.9548\n",
            "Epoch 17/30\n",
            "722/722 [==============================] - 4s 6ms/step - loss: 0.0159 - acc: 0.9786 - val_loss: 0.0176 - val_acc: 0.9751\n",
            "Epoch 18/30\n",
            "722/722 [==============================] - 4s 6ms/step - loss: 0.0151 - acc: 0.9809 - val_loss: 0.0243 - val_acc: 0.9641\n",
            "Epoch 19/30\n",
            "722/722 [==============================] - 4s 6ms/step - loss: 0.0146 - acc: 0.9802 - val_loss: 0.0240 - val_acc: 0.9634\n",
            "Epoch 20/30\n",
            "722/722 [==============================] - 4s 6ms/step - loss: 0.0135 - acc: 0.9819 - val_loss: 0.0179 - val_acc: 0.9766\n",
            "Epoch 21/30\n",
            "722/722 [==============================] - 4s 6ms/step - loss: 0.0145 - acc: 0.9804 - val_loss: 0.0183 - val_acc: 0.9688\n",
            "Epoch 22/30\n",
            "722/722 [==============================] - 5s 7ms/step - loss: 0.0136 - acc: 0.9830 - val_loss: 0.0236 - val_acc: 0.9727\n",
            "Epoch 23/30\n",
            "722/722 [==============================] - 5s 7ms/step - loss: 0.0134 - acc: 0.9815 - val_loss: 0.0220 - val_acc: 0.9673\n",
            "Epoch 24/30\n",
            "722/722 [==============================] - 4s 6ms/step - loss: 0.0128 - acc: 0.9831 - val_loss: 0.0175 - val_acc: 0.9774\n",
            "Epoch 25/30\n",
            "722/722 [==============================] - 4s 6ms/step - loss: 0.0118 - acc: 0.9854 - val_loss: 0.0189 - val_acc: 0.9743\n",
            "Epoch 26/30\n",
            "722/722 [==============================] - 4s 6ms/step - loss: 0.0120 - acc: 0.9852 - val_loss: 0.0239 - val_acc: 0.9719\n",
            "Epoch 27/30\n",
            "722/722 [==============================] - 5s 6ms/step - loss: 0.0116 - acc: 0.9850 - val_loss: 0.0348 - val_acc: 0.9649\n",
            "Epoch 28/30\n",
            "722/722 [==============================] - 4s 6ms/step - loss: 0.0113 - acc: 0.9867 - val_loss: 0.0223 - val_acc: 0.9727\n",
            "Epoch 29/30\n",
            "722/722 [==============================] - 4s 6ms/step - loss: 0.0118 - acc: 0.9857 - val_loss: 0.0190 - val_acc: 0.9704\n",
            "Epoch 30/30\n",
            "722/722 [==============================] - 4s 6ms/step - loss: 0.0108 - acc: 0.9882 - val_loss: 0.0302 - val_acc: 0.9649\n"
          ]
        }
      ]
    },
    {
      "cell_type": "code",
      "source": [
        ""
      ],
      "metadata": {
        "id": "cSKk5DJ-qlw_"
      },
      "execution_count": 162,
      "outputs": []
    },
    {
      "cell_type": "code",
      "metadata": {
        "id": "mi9Jdf_CPh7V",
        "colab": {
          "base_uri": "https://localhost:8080/",
          "height": 391
        },
        "outputId": "beeccf38-4ba0-4859-e4cd-aedfd4886173"
      },
      "source": [
        "plt.figure(figsize=(12,6))\n",
        "plt.plot(history.history['loss'], label='train')\n",
        "plt.plot(history.history['val_loss'], label='test')\n",
        "\n",
        "plt.legend()"
      ],
      "execution_count": 163,
      "outputs": [
        {
          "output_type": "execute_result",
          "data": {
            "text/plain": [
              "<matplotlib.legend.Legend at 0x7f5e379f3450>"
            ]
          },
          "metadata": {},
          "execution_count": 163
        },
        {
          "output_type": "display_data",
          "data": {
            "text/plain": [
              "<Figure size 864x432 with 1 Axes>"
            ],
            "image/png": "[encoded data removed]"
          },
          "metadata": {
            "needs_background": "light"
          }
        }
      ]
    },
    {
      "cell_type": "code",
      "metadata": {
        "id": "IbvaoeDUPh7V"
      },
      "source": [
        "y_pred = model.predict(X_test)\n",
        "\n",
        "y_test_inv = almost_fall_transformer.inverse_transform(y_test.reshape(1,-1))\n",
        "y_train_inv = almost_fall_transformer.inverse_transform(y_train.reshape(1,-1))\n",
        "y_pred_inv = almost_fall_transformer.inverse_transform(y_pred)"
      ],
      "execution_count": 164,
      "outputs": []
    },
    {
      "cell_type": "code",
      "metadata": {
        "colab": {
          "base_uri": "https://localhost:8080/",
          "height": 374
        },
        "id": "H8gFWxvePh7W",
        "outputId": "457b648d-efd5-421a-c64e-84a0c1361887"
      },
      "source": [
        "plt.figure(figsize=(12,6))\n",
        "plt.plot(y_test_inv.flatten(), marker='.', label='True')\n",
        "plt.plot(y_pred_inv, marker='.', label='Prediction')\n",
        "plt.legend();"
      ],
      "execution_count": 165,
      "outputs": [
        {
          "output_type": "display_data",
          "data": {
            "text/plain": [
              "<Figure size 864x432 with 1 Axes>"
            ],
            "image/png": "[encoded data removed]"
          },
          "metadata": {
            "needs_background": "light"
          }
        }
      ]
    },
    {
      "cell_type": "code",
      "source": [
        "data = df.iloc[::-1]"
      ],
      "metadata": {
        "id": "hDITlCBta-fk"
      },
      "execution_count": 166,
      "outputs": []
    },
    {
      "cell_type": "code",
      "source": [
        "range(len(y_pred_inv))"
      ],
      "metadata": {
        "colab": {
          "base_uri": "https://localhost:8080/"
        },
        "id": "XgcJ61BJzEs-",
        "outputId": "37ae7de2-c4aa-4c86-b502-f0210e8fa023"
      },
      "execution_count": 167,
      "outputs": [
        {
          "output_type": "execute_result",
          "data": {
            "text/plain": [
              "range(0, 12829)"
            ]
          },
          "metadata": {},
          "execution_count": 167
        }
      ]
    },
    {
      "cell_type": "code",
      "source": [
        "y_pred_inv[4][0]"
      ],
      "metadata": {
        "colab": {
          "base_uri": "https://localhost:8080/"
        },
        "id": "-UukM3eb0zYa",
        "outputId": "fb8d3f5b-7ace-470d-fc2a-d56ba8a5cfc0"
      },
      "execution_count": 168,
      "outputs": [
        {
          "output_type": "execute_result",
          "data": {
            "text/plain": [
              "-0.0026452355"
            ]
          },
          "metadata": {},
          "execution_count": 168
        }
      ]
    },
    {
      "cell_type": "code",
      "source": [
        "#Logic example to count number of falls\n",
        "velocity = [3, 3, 3 ,3 ,3, 4, ... ,2 ,1, 0, 0, 0, 0] # velocity of a person walking and then falling\n",
        "almost_fall_count=0\n",
        "fall_count=0\n",
        "for j in range(len(y_pred_inv)): #range(0, num of samples)\n",
        "  for i in range(0,200): # last 200 samples (i.e [-i:])\n",
        "    if y_pred_inv[-i:][0] > 0.9 and y_pred_inv[i][0] < 1.1: # if classified almost_fall\n",
        "      almost_fall_count = almost_fall_count+1\n",
        "    if almost_fall_count > 0 and velocity[j+200] == 0:\n",
        "      fall_count = fall_count+1\n",
        "      almost_fall_count = 0 # resetting if condition"
      ],
      "metadata": {
        "id": "UN01PRVY0dc8"
      },
      "execution_count": 169,
      "outputs": []
    }
  ]
}